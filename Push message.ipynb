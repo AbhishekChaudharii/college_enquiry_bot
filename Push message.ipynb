{
 "cells": [
  {
   "cell_type": "code",
   "execution_count": 2,
   "id": "cae5c52e",
   "metadata": {},
   "outputs": [],
   "source": [
    "import telebot\n",
    "import os\n",
    "from dotenv import load_dotenv\n",
    "load_dotenv()\n",
    "bot = telebot.TeleBot(os.environ.get(\"TELEGRAM_API_KEY\"), parse_mode=None)\n",
    "@bot.message_handler()\n",
    "\n",
    "def sendmsg():\n",
    "\n",
    "    bot.send_message(os.environ.get(\"A_uid\"),\"Hey Abhishek!\")    \n",
    "    bot.send_message(os.environ.get(\"A_uid\"),\"There is a guest lecture on blockchain on 28 Oct 2021. Please visit the college website to Register.\")    \n",
    "\n",
    "\n",
    "sendmsg()"
   ]
  },
  {
   "cell_type": "code",
   "execution_count": null,
   "id": "ff81f932",
   "metadata": {},
   "outputs": [],
   "source": []
  }
 ],
 "metadata": {
  "kernelspec": {
   "display_name": "Python 3 (ipykernel)",
   "language": "python",
   "name": "python3"
  },
  "language_info": {
   "codemirror_mode": {
    "name": "ipython",
    "version": 3
   },
   "file_extension": ".py",
   "mimetype": "text/x-python",
   "name": "python",
   "nbconvert_exporter": "python",
   "pygments_lexer": "ipython3",
   "version": "3.8.10"
  }
 },
 "nbformat": 4,
 "nbformat_minor": 5
}
